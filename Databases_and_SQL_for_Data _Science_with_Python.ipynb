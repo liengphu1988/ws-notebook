{
    "cells": [
        {
            "cell_type": "markdown",
            "metadata": {},
            "source": "<center>\n    <img src=\"https://s3-api.us-geo.objectstorage.softlayer.net/cf-courses-data/CognitiveClass/Logos/organization_logo/organization_logo.png\" width=\"300\" alt=\"cognitiveclass.ai logo\"  />\n</center>\n\n<h1 align=center><font size = 5>Assignment: Notebook for Peer Assignment</font></h1>\n"
        },
        {
            "cell_type": "markdown",
            "metadata": {},
            "source": "# Introduction\n\nUsing this Python notebook you will:\n\n1.  Understand three Chicago datasets  \n2.  Load the three datasets into three tables in a Db2 database\n3.  Execute SQL queries to answer assignment questions \n"
        },
        {
            "cell_type": "markdown",
            "metadata": {},
            "source": "## Understand the datasets\n\nTo complete the assignment problems in this notebook you will be using three datasets that are available on the city of Chicago's Data Portal:\n\n1.  <a href=\"https://data.cityofchicago.org/Health-Human-Services/Census-Data-Selected-socioeconomic-indicators-in-C/kn9c-c2s2\">Socioeconomic Indicators in Chicago</a>\n2.  <a href=\"https://data.cityofchicago.org/Education/Chicago-Public-Schools-Progress-Report-Cards-2011-/9xs2-f89t\">Chicago Public Schools</a>\n3.  <a href=\"https://data.cityofchicago.org/Public-Safety/Crimes-2001-to-present/ijzp-q8t2\">Chicago Crime Data</a>\n\n### 1. Socioeconomic Indicators in Chicago\n\nThis dataset contains a selection of six socioeconomic indicators of public health significance and a \u201chardship index,\u201d for each Chicago community area, for the years 2008 \u2013 2012.\n\nA detailed description of this dataset and the original dataset can be obtained from the Chicago Data Portal at:\n[https://data.cityofchicago.org/Health-Human-Services/Census-Data-Selected-socioeconomic-indicators-in-C/kn9c-c2s2](https://data.cityofchicago.org/Health-Human-Services/Census-Data-Selected-socioeconomic-indicators-in-C/kn9c-c2s2?utm_medium=Email&utm_source=Nurture&utm_content=000026UJ&utm_term=10006555&utm_id=SkillsNetwork-Courses-IBMDeveloperSkillsNetwork-DB0201EN-SkillsNetwork-20127838&cm_mmc=Email_Newsletter-_-Developer_Ed%2BTech-_-WW_WW-_-SkillsNetwork-Courses-IBMDeveloperSkillsNetwork-DB0201EN-SkillsNetwork-20127838&cm_mmca1=000026UJ&cm_mmca2=10006555&cm_mmca3=M12345678&cvosrc=email.Newsletter.M12345678&cvo_campaign=000026UJ)\n\n### 2. Chicago Public Schools\n\nThis dataset shows all school level performance data used to create CPS School Report Cards for the 2011-2012 school year. This dataset is provided by the city of Chicago's Data Portal.\n\nA detailed description of this dataset and the original dataset can be obtained from the Chicago Data Portal at:\n[https://data.cityofchicago.org/Education/Chicago-Public-Schools-Progress-Report-Cards-2011-/9xs2-f89t](https://data.cityofchicago.org/Education/Chicago-Public-Schools-Progress-Report-Cards-2011-/9xs2-f89t?utm_medium=Email&utm_source=Nurture&utm_content=000026UJ&utm_term=10006555&utm_id=SkillsNetwork-Courses-IBMDeveloperSkillsNetwork-DB0201EN-SkillsNetwork-20127838&cm_mmc=Email_Newsletter-_-Developer_Ed%2BTech-_-WW_WW-_-SkillsNetwork-Courses-IBMDeveloperSkillsNetwork-DB0201EN-SkillsNetwork-20127838&cm_mmca1=000026UJ&cm_mmca2=10006555&cm_mmca3=M12345678&cvosrc=email.Newsletter.M12345678&cvo_campaign=000026UJ)\n\n### 3. Chicago Crime Data\n\nThis dataset reflects reported incidents of crime (with the exception of murders where data exists for each victim) that occurred in the City of Chicago from 2001 to present, minus the most recent seven days. \n\nA detailed description of this dataset and the original dataset can be obtained from the Chicago Data Portal at:\n[https://data.cityofchicago.org/Public-Safety/Crimes-2001-to-present/ijzp-q8t2](https://data.cityofchicago.org/Public-Safety/Crimes-2001-to-present/ijzp-q8t2?utm_medium=Email&utm_source=Nurture&utm_content=000026UJ&utm_term=10006555&utm_id=SkillsNetwork-Courses-IBMDeveloperSkillsNetwork-DB0201EN-SkillsNetwork-20127838&cm_mmc=Email_Newsletter-_-Developer_Ed%2BTech-_-WW_WW-_-SkillsNetwork-Courses-IBMDeveloperSkillsNetwork-DB0201EN-SkillsNetwork-20127838&cm_mmca1=000026UJ&cm_mmca2=10006555&cm_mmca3=M12345678&cvosrc=email.Newsletter.M12345678&cvo_campaign=000026UJ)\n"
        },
        {
            "cell_type": "markdown",
            "metadata": {},
            "source": "### Download the datasets\n\nThis assignment requires you to have these three tables populated with a subset of the whole datasets.\n\nIn many cases the dataset to be analyzed is available as a .CSV (comma separated values) file, perhaps on the internet. Click on the links below to download and save the datasets (.CSV files):\n\n-   <a href=\"https://cf-courses-data.s3.us.cloud-object-storage.appdomain.cloud/IBMDeveloperSkillsNetwork-DB0201EN-SkillsNetwork/labs/FinalModule_Coursera_V5/data/ChicagoCensusData.csv\" target=\"_blank\">Chicago Census Data</a>\n\n-   <a href=\"https://cf-courses-data.s3.us.cloud-object-storage.appdomain.cloud/IBMDeveloperSkillsNetwork-DB0201EN-SkillsNetwork/labs/FinalModule_Coursera_V5/data/ChicagoPublicSchools.csv\" target=\"_blank\">Chicago Public Schools</a>\n\n-   <a href=\"https://cf-courses-data.s3.us.cloud-object-storage.appdomain.cloud/IBMDeveloperSkillsNetwork-DB0201EN-SkillsNetwork/labs/FinalModule_Coursera_V5/data/ChicagoCrimeData.csv\" target=\"_blank\">Chicago Crime Data</a>\n\n**NOTE:** Ensure you have downloaded the datasets using the links above instead of directly from the Chicago Data Portal. The versions linked here are subsets of the original datasets and have some of the column names modified to be more database friendly which will make it easier to complete this assignment.\n"
        },
        {
            "cell_type": "markdown",
            "metadata": {},
            "source": "### Store the datasets in database tables\n\nTo analyze the data using SQL, it first needs to be stored in the database.\n\nWhile it is easier to read the dataset into a Pandas dataframe and then PERSIST it into the database as we saw in Week 3 Lab 3, it results in mapping to default datatypes which may not be optimal for SQL querying. For example a long textual field may map to a CLOB instead of a VARCHAR. \n\nTherefore, **it is highly recommended to manually load the table using the database console LOAD tool, as indicated in Week 2 Lab 1 Part II**. The only difference with that lab is that in Step 5 of the instructions you will need to click on create \"(+) New Table\" and specify the name of the table you want to create and then click \"Next\". \n\n<img src = \"https://cf-courses-data.s3.us.cloud-object-storage.appdomain.cloud/IBMDeveloperSkillsNetwork-DB0201EN-SkillsNetwork/labs/FinalModule_Coursera_V5/images/LoadingData.png\">\n\n##### Now open the Db2 console, open the LOAD tool, Select / Drag the .CSV file for the first dataset, Next create a New Table, and then follow the steps on-screen instructions to load the data. Name the new tables as follows:\n\n1.  **CENSUS_DATA**\n2.  **CHICAGO_PUBLIC_SCHOOLS**\n3.  **CHICAGO_CRIME_DATA**\n"
        },
        {
            "cell_type": "markdown",
            "metadata": {},
            "source": "### Connect to the database\n\nLet us first load the SQL extension and establish a connection with the database\n"
        },
        {
            "cell_type": "code",
            "execution_count": 1,
            "metadata": {},
            "outputs": [
                {
                    "name": "stdout",
                    "output_type": "stream",
                    "text": "/opt/conda/envs/Python-3.7-main/lib/python3.7/site-packages/secretstorage/dhcrypto.py:16: CryptographyDeprecationWarning: int_from_bytes is deprecated, use int.from_bytes instead\n  from cryptography.utils import int_from_bytes\n/opt/conda/envs/Python-3.7-main/lib/python3.7/site-packages/secretstorage/util.py:25: CryptographyDeprecationWarning: int_from_bytes is deprecated, use int.from_bytes instead\n  from cryptography.utils import int_from_bytes\nCollecting sqlalchemy==1.3.9\n  Downloading SQLAlchemy-1.3.9.tar.gz (6.0 MB)\n\u001b[K     |\u2588\u2588\u2588\u2588\u2588\u2588\u2588\u2588\u2588\u2588\u2588\u2588\u2588\u2588\u2588\u2588\u2588\u2588\u2588\u2588\u2588\u2588\u2588\u2588\u2588\u2588\u2588\u2588\u2588\u2588\u2588\u2588| 6.0 MB 11.9 MB/s eta 0:00:01\n\u001b[?25hBuilding wheels for collected packages: sqlalchemy\n  Building wheel for sqlalchemy (setup.py) ... \u001b[?25ldone\n\u001b[?25h  Created wheel for sqlalchemy: filename=SQLAlchemy-1.3.9-cp37-cp37m-linux_x86_64.whl size=1207767 sha256=d4374b59e9000673d8e4eea7cec74d74a360cc319fa70967681e6817975ea0a2\n  Stored in directory: /tmp/wsuser/.cache/pip/wheels/03/71/13/010faf12246f72dc76b4150e6e599d13a85b4435e06fb9e51f\nSuccessfully built sqlalchemy\nInstalling collected packages: sqlalchemy\n  Attempting uninstall: sqlalchemy\n    Found existing installation: SQLAlchemy 1.3.17\n    Uninstalling SQLAlchemy-1.3.17:\n      Successfully uninstalled SQLAlchemy-1.3.17\nSuccessfully installed sqlalchemy-1.3.9\n/opt/conda/envs/Python-3.7-main/lib/python3.7/site-packages/secretstorage/dhcrypto.py:16: CryptographyDeprecationWarning: int_from_bytes is deprecated, use int.from_bytes instead\n  from cryptography.utils import int_from_bytes\n/opt/conda/envs/Python-3.7-main/lib/python3.7/site-packages/secretstorage/util.py:25: CryptographyDeprecationWarning: int_from_bytes is deprecated, use int.from_bytes instead\n  from cryptography.utils import int_from_bytes\nRequirement already satisfied: ibm_db_sa in /opt/conda/envs/Python-3.7-main/lib/python3.7/site-packages (0.3.5)\nRequirement already satisfied: sqlalchemy>=0.7.3 in /opt/conda/envs/Python-3.7-main/lib/python3.7/site-packages (from ibm_db_sa) (1.3.9)\nRequirement already satisfied: ibm-db>=2.0.0 in /opt/conda/envs/Python-3.7-main/lib/python3.7/site-packages (from ibm_db_sa) (3.0.2)\n/opt/conda/envs/Python-3.7-main/lib/python3.7/site-packages/secretstorage/dhcrypto.py:16: CryptographyDeprecationWarning: int_from_bytes is deprecated, use int.from_bytes instead\n  from cryptography.utils import int_from_bytes\n/opt/conda/envs/Python-3.7-main/lib/python3.7/site-packages/secretstorage/util.py:25: CryptographyDeprecationWarning: int_from_bytes is deprecated, use int.from_bytes instead\n  from cryptography.utils import int_from_bytes\nCollecting ipython-sql\n  Downloading ipython_sql-0.4.0-py3-none-any.whl (19 kB)\nCollecting prettytable<1\n  Downloading prettytable-0.7.2.tar.bz2 (21 kB)\nRequirement already satisfied: six in /opt/conda/envs/Python-3.7-main/lib/python3.7/site-packages (from ipython-sql) (1.15.0)\nCollecting sqlparse\n  Downloading sqlparse-0.4.1-py3-none-any.whl (42 kB)\n\u001b[K     |\u2588\u2588\u2588\u2588\u2588\u2588\u2588\u2588\u2588\u2588\u2588\u2588\u2588\u2588\u2588\u2588\u2588\u2588\u2588\u2588\u2588\u2588\u2588\u2588\u2588\u2588\u2588\u2588\u2588\u2588\u2588\u2588| 42 kB 2.2 MB/s  eta 0:00:01\n\u001b[?25hRequirement already satisfied: ipython-genutils>=0.1.0 in /opt/conda/envs/Python-3.7-main/lib/python3.7/site-packages (from ipython-sql) (0.2.0)\nRequirement already satisfied: ipython>=1.0 in /opt/conda/envs/Python-3.7-main/lib/python3.7/site-packages (from ipython-sql) (7.15.0)\nRequirement already satisfied: sqlalchemy>=0.6.7 in /opt/conda/envs/Python-3.7-main/lib/python3.7/site-packages (from ipython-sql) (1.3.9)\nRequirement already satisfied: decorator in /opt/conda/envs/Python-3.7-main/lib/python3.7/site-packages (from ipython>=1.0->ipython-sql) (4.4.2)\nRequirement already satisfied: prompt-toolkit!=3.0.0,!=3.0.1,<3.1.0,>=2.0.0 in /opt/conda/envs/Python-3.7-main/lib/python3.7/site-packages (from ipython>=1.0->ipython-sql) (3.0.5)\nRequirement already satisfied: setuptools>=18.5 in /opt/conda/envs/Python-3.7-main/lib/python3.7/site-packages (from ipython>=1.0->ipython-sql) (47.3.1.post20200622)\nRequirement already satisfied: pygments in /opt/conda/envs/Python-3.7-main/lib/python3.7/site-packages (from ipython>=1.0->ipython-sql) (2.6.1)\nRequirement already satisfied: backcall in /opt/conda/envs/Python-3.7-main/lib/python3.7/site-packages (from ipython>=1.0->ipython-sql) (0.2.0)\nRequirement already satisfied: pexpect; sys_platform != \"win32\" in /opt/conda/envs/Python-3.7-main/lib/python3.7/site-packages (from ipython>=1.0->ipython-sql) (4.8.0)\nRequirement already satisfied: pickleshare in /opt/conda/envs/Python-3.7-main/lib/python3.7/site-packages (from ipython>=1.0->ipython-sql) (0.7.5)\nRequirement already satisfied: traitlets>=4.2 in /opt/conda/envs/Python-3.7-main/lib/python3.7/site-packages (from ipython>=1.0->ipython-sql) (4.3.3)\nRequirement already satisfied: jedi>=0.10 in /opt/conda/envs/Python-3.7-main/lib/python3.7/site-packages (from ipython>=1.0->ipython-sql) (0.17.1)\nRequirement already satisfied: wcwidth in /opt/conda/envs/Python-3.7-main/lib/python3.7/site-packages (from prompt-toolkit!=3.0.0,!=3.0.1,<3.1.0,>=2.0.0->ipython>=1.0->ipython-sql) (0.2.4)\nRequirement already satisfied: ptyprocess>=0.5 in /opt/conda/envs/Python-3.7-main/lib/python3.7/site-packages (from pexpect; sys_platform != \"win32\"->ipython>=1.0->ipython-sql) (0.6.0)\nRequirement already satisfied: parso<0.8.0,>=0.7.0 in /opt/conda/envs/Python-3.7-main/lib/python3.7/site-packages (from jedi>=0.10->ipython>=1.0->ipython-sql) (0.7.0)\nBuilding wheels for collected packages: prettytable\n  Building wheel for prettytable (setup.py) ... \u001b[?25ldone\n\u001b[?25h  Created wheel for prettytable: filename=prettytable-0.7.2-py3-none-any.whl size=13698 sha256=6588e5f8d39fe90f12c2d47fb79ca701e393935ab752aa778ff6d744975ea72a\n  Stored in directory: /tmp/wsuser/.cache/pip/wheels/8c/76/0b/eb9eb3da7e2335e3577e3f96a0ae9f74f206e26457bd1a2bc8\nSuccessfully built prettytable\nInstalling collected packages: prettytable, sqlparse, ipython-sql\nSuccessfully installed ipython-sql-0.4.0 prettytable-0.7.2 sqlparse-0.4.1\n"
                }
            ],
            "source": "!pip install sqlalchemy==1.3.9\n!pip install ibm_db_sa\n!pip install ipython-sql;"
        },
        {
            "cell_type": "code",
            "execution_count": 2,
            "metadata": {},
            "outputs": [],
            "source": "%load_ext sql"
        },
        {
            "cell_type": "markdown",
            "metadata": {},
            "source": "In the next cell enter your db2 connection string. Recall you created Service Credentials for your Db2 instance in first lab in Week 3. From the **uri** field of your Db2 service credentials copy everything after db2:// (except the double quote at the end) and paste it in the cell below after ibm_db_sa://\n\n<img src =\"https://cf-courses-data.s3.us.cloud-object-storage.appdomain.cloud/IBMDeveloperSkillsNetwork-DB0201EN-SkillsNetwork/labs/FinalModule_edX/images/URI.jpg\">\n"
        },
        {
            "cell_type": "code",
            "execution_count": 4,
            "metadata": {},
            "outputs": [],
            "source": "# Remember the connection string is of the format:\n# %sql ibm_db_sa://my-username:my-password@my-hostname:my-port/my-db-name\n# Enter the connection string for your Db2 on Cloud database instance below\n%sql ibm_db_sa://cwb66790:2tv9+mjt28brc08q@dashdb-txn-sbox-yp-dal09-11.services.dal.bluemix.net:50000/BLUDB"
        },
        {
            "cell_type": "markdown",
            "metadata": {},
            "source": "## Problems\n\nNow write and execute SQL queries to solve assignment problems\n\n### Problem 1\n\n##### Find the total number of crimes recorded in the CRIME table.\n"
        },
        {
            "cell_type": "code",
            "execution_count": 60,
            "metadata": {},
            "outputs": [
                {
                    "name": "stdout",
                    "output_type": "stream",
                    "text": " * ibm_db_sa://cwb66790:***@dashdb-txn-sbox-yp-dal09-11.services.dal.bluemix.net:50000/BLUDB\n"
                },
                {
                    "data": {
                        "text/plain": "'Persisted chicago_crime_data'"
                    },
                    "execution_count": 60,
                    "metadata": {},
                    "output_type": "execute_result"
                }
            ],
            "source": ""
        },
        {
            "cell_type": "code",
            "execution_count": 63,
            "metadata": {},
            "outputs": [
                {
                    "name": "stdout",
                    "output_type": "stream",
                    "text": " * ibm_db_sa://cwb66790:***@dashdb-txn-sbox-yp-dal09-11.services.dal.bluemix.net:50000/BLUDB\nDone.\n"
                },
                {
                    "data": {
                        "text/html": "<table>\n    <tr>\n        <th>total_number_of_crime</th>\n    </tr>\n    <tr>\n        <td>533</td>\n    </tr>\n</table>",
                        "text/plain": "[(Decimal('533'),)]"
                    },
                    "execution_count": 63,
                    "metadata": {},
                    "output_type": "execute_result"
                }
            ],
            "source": "%sql SELECT COUNT(*) AS TOTAL_NUMBER_OF_CRIME FROM CHICAGO_CRIME_DATA ;"
        },
        {
            "cell_type": "markdown",
            "metadata": {},
            "source": "### Problem 2\n\n##### List community areas with per capita income less than 11000.\n"
        },
        {
            "cell_type": "code",
            "execution_count": 64,
            "metadata": {},
            "outputs": [
                {
                    "name": "stdout",
                    "output_type": "stream",
                    "text": " * ibm_db_sa://cwb66790:***@dashdb-txn-sbox-yp-dal09-11.services.dal.bluemix.net:50000/BLUDB\nDone.\n"
                },
                {
                    "data": {
                        "text/html": "<table>\n    <tr>\n        <th>community_area_name</th>\n        <th>per_capita_income</th>\n    </tr>\n    <tr>\n        <td>West Garfield Park</td>\n        <td>10934</td>\n    </tr>\n    <tr>\n        <td>South Lawndale</td>\n        <td>10402</td>\n    </tr>\n    <tr>\n        <td>Fuller Park</td>\n        <td>10432</td>\n    </tr>\n    <tr>\n        <td>Riverdale</td>\n        <td>8201</td>\n    </tr>\n</table>",
                        "text/plain": "[('West Garfield Park', 10934),\n ('South Lawndale', 10402),\n ('Fuller Park', 10432),\n ('Riverdale', 8201)]"
                    },
                    "execution_count": 64,
                    "metadata": {},
                    "output_type": "execute_result"
                }
            ],
            "source": "%sql SELECT COMMUNITY_AREA_NAME, PER_CAPITA_INCOME FROM CENSUS_DATA WHERE PER_CAPITA_INCOME < 11000;"
        },
        {
            "cell_type": "markdown",
            "metadata": {},
            "source": "### Problem 3\n\n##### List all case numbers for crimes  involving minors?\n"
        },
        {
            "cell_type": "code",
            "execution_count": 65,
            "metadata": {},
            "outputs": [
                {
                    "name": "stdout",
                    "output_type": "stream",
                    "text": " * ibm_db_sa://cwb66790:***@dashdb-txn-sbox-yp-dal09-11.services.dal.bluemix.net:50000/BLUDB\nDone.\n"
                },
                {
                    "data": {
                        "text/html": "<table>\n    <tr>\n        <th>index</th>\n        <th>community_area_number</th>\n        <th>community_area_name</th>\n        <th>percent_aged_16__unemployed</th>\n        <th>per_capita_income</th>\n        <th>hardship_index</th>\n    </tr>\n    <tr>\n        <td>0</td>\n        <td>1.0</td>\n        <td>Rogers Park</td>\n        <td>8.7</td>\n        <td>23939</td>\n        <td>39.0</td>\n    </tr>\n    <tr>\n        <td>1</td>\n        <td>2.0</td>\n        <td>West Ridge</td>\n        <td>8.8</td>\n        <td>23040</td>\n        <td>46.0</td>\n    </tr>\n    <tr>\n        <td>2</td>\n        <td>3.0</td>\n        <td>Uptown</td>\n        <td>8.9</td>\n        <td>35787</td>\n        <td>20.0</td>\n    </tr>\n    <tr>\n        <td>3</td>\n        <td>4.0</td>\n        <td>Lincoln Square</td>\n        <td>8.2</td>\n        <td>37524</td>\n        <td>17.0</td>\n    </tr>\n    <tr>\n        <td>4</td>\n        <td>5.0</td>\n        <td>North Center</td>\n        <td>5.2</td>\n        <td>57123</td>\n        <td>6.0</td>\n    </tr>\n    <tr>\n        <td>5</td>\n        <td>6.0</td>\n        <td>Lake View</td>\n        <td>4.7</td>\n        <td>60058</td>\n        <td>5.0</td>\n    </tr>\n    <tr>\n        <td>6</td>\n        <td>7.0</td>\n        <td>Lincoln Park</td>\n        <td>5.1</td>\n        <td>71551</td>\n        <td>2.0</td>\n    </tr>\n    <tr>\n        <td>7</td>\n        <td>8.0</td>\n        <td>Near North Side</td>\n        <td>7.0</td>\n        <td>88669</td>\n        <td>1.0</td>\n    </tr>\n    <tr>\n        <td>8</td>\n        <td>9.0</td>\n        <td>Edison Park</td>\n        <td>6.5</td>\n        <td>40959</td>\n        <td>8.0</td>\n    </tr>\n    <tr>\n        <td>9</td>\n        <td>10.0</td>\n        <td>Norwood Park</td>\n        <td>9.0</td>\n        <td>32875</td>\n        <td>21.0</td>\n    </tr>\n    <tr>\n        <td>10</td>\n        <td>11.0</td>\n        <td>Jefferson Park</td>\n        <td>12.4</td>\n        <td>27751</td>\n        <td>25.0</td>\n    </tr>\n    <tr>\n        <td>11</td>\n        <td>12.0</td>\n        <td>Forest Glen</td>\n        <td>6.8</td>\n        <td>44164</td>\n        <td>11.0</td>\n    </tr>\n    <tr>\n        <td>12</td>\n        <td>13.0</td>\n        <td>North Park</td>\n        <td>9.9</td>\n        <td>26576</td>\n        <td>33.0</td>\n    </tr>\n    <tr>\n        <td>13</td>\n        <td>14.0</td>\n        <td>Albany Park</td>\n        <td>10.0</td>\n        <td>21323</td>\n        <td>53.0</td>\n    </tr>\n    <tr>\n        <td>14</td>\n        <td>15.0</td>\n        <td>Portage Park</td>\n        <td>12.6</td>\n        <td>24336</td>\n        <td>35.0</td>\n    </tr>\n    <tr>\n        <td>15</td>\n        <td>16.0</td>\n        <td>Irving Park</td>\n        <td>10.0</td>\n        <td>27249</td>\n        <td>34.0</td>\n    </tr>\n    <tr>\n        <td>16</td>\n        <td>17.0</td>\n        <td>Dunning</td>\n        <td>10.0</td>\n        <td>26282</td>\n        <td>28.0</td>\n    </tr>\n    <tr>\n        <td>17</td>\n        <td>18.0</td>\n        <td>Montclaire</td>\n        <td>13.8</td>\n        <td>22014</td>\n        <td>50.0</td>\n    </tr>\n    <tr>\n        <td>18</td>\n        <td>19.0</td>\n        <td>Belmont Cragin</td>\n        <td>14.6</td>\n        <td>15461</td>\n        <td>70.0</td>\n    </tr>\n    <tr>\n        <td>19</td>\n        <td>20.0</td>\n        <td>Hermosa</td>\n        <td>13.1</td>\n        <td>15089</td>\n        <td>71.0</td>\n    </tr>\n    <tr>\n        <td>20</td>\n        <td>21.0</td>\n        <td>Avondale</td>\n        <td>9.2</td>\n        <td>20039</td>\n        <td>42.0</td>\n    </tr>\n    <tr>\n        <td>21</td>\n        <td>22.0</td>\n        <td>Logan Square</td>\n        <td>8.2</td>\n        <td>31908</td>\n        <td>23.0</td>\n    </tr>\n    <tr>\n        <td>22</td>\n        <td>23.0</td>\n        <td>Humboldt park</td>\n        <td>17.3</td>\n        <td>13781</td>\n        <td>85.0</td>\n    </tr>\n    <tr>\n        <td>23</td>\n        <td>24.0</td>\n        <td>West Town</td>\n        <td>6.6</td>\n        <td>43198</td>\n        <td>10.0</td>\n    </tr>\n    <tr>\n        <td>24</td>\n        <td>25.0</td>\n        <td>Austin</td>\n        <td>22.6</td>\n        <td>15957</td>\n        <td>73.0</td>\n    </tr>\n    <tr>\n        <td>25</td>\n        <td>26.0</td>\n        <td>West Garfield Park</td>\n        <td>25.8</td>\n        <td>10934</td>\n        <td>92.0</td>\n    </tr>\n    <tr>\n        <td>26</td>\n        <td>27.0</td>\n        <td>East Garfield Park</td>\n        <td>19.6</td>\n        <td>12961</td>\n        <td>83.0</td>\n    </tr>\n    <tr>\n        <td>27</td>\n        <td>28.0</td>\n        <td>Near West Side</td>\n        <td>10.7</td>\n        <td>44689</td>\n        <td>15.0</td>\n    </tr>\n    <tr>\n        <td>28</td>\n        <td>29.0</td>\n        <td>North Lawndale</td>\n        <td>21.2</td>\n        <td>12034</td>\n        <td>87.0</td>\n    </tr>\n    <tr>\n        <td>29</td>\n        <td>30.0</td>\n        <td>South Lawndale</td>\n        <td>15.8</td>\n        <td>10402</td>\n        <td>96.0</td>\n    </tr>\n    <tr>\n        <td>30</td>\n        <td>31.0</td>\n        <td>Lower West Side</td>\n        <td>15.8</td>\n        <td>16444</td>\n        <td>76.0</td>\n    </tr>\n    <tr>\n        <td>31</td>\n        <td>32.0</td>\n        <td>Loop</td>\n        <td>5.7</td>\n        <td>65526</td>\n        <td>3.0</td>\n    </tr>\n    <tr>\n        <td>32</td>\n        <td>33.0</td>\n        <td>Near South Side</td>\n        <td>4.9</td>\n        <td>59077</td>\n        <td>7.0</td>\n    </tr>\n    <tr>\n        <td>33</td>\n        <td>34.0</td>\n        <td>Armour Square</td>\n        <td>16.7</td>\n        <td>16148</td>\n        <td>82.0</td>\n    </tr>\n    <tr>\n        <td>34</td>\n        <td>35.0</td>\n        <td>Douglas</td>\n        <td>18.2</td>\n        <td>23791</td>\n        <td>47.0</td>\n    </tr>\n    <tr>\n        <td>35</td>\n        <td>36.0</td>\n        <td>Oakland</td>\n        <td>28.7</td>\n        <td>19252</td>\n        <td>78.0</td>\n    </tr>\n    <tr>\n        <td>36</td>\n        <td>37.0</td>\n        <td>Fuller Park</td>\n        <td>33.9</td>\n        <td>10432</td>\n        <td>97.0</td>\n    </tr>\n    <tr>\n        <td>37</td>\n        <td>38.0</td>\n        <td>Grand Boulevard</td>\n        <td>24.3</td>\n        <td>23472</td>\n        <td>57.0</td>\n    </tr>\n    <tr>\n        <td>38</td>\n        <td>39.0</td>\n        <td>Kenwood</td>\n        <td>15.7</td>\n        <td>35911</td>\n        <td>26.0</td>\n    </tr>\n    <tr>\n        <td>39</td>\n        <td>40.0</td>\n        <td>Washington Park</td>\n        <td>28.6</td>\n        <td>13785</td>\n        <td>88.0</td>\n    </tr>\n    <tr>\n        <td>40</td>\n        <td>41.0</td>\n        <td>Hyde Park</td>\n        <td>8.4</td>\n        <td>39056</td>\n        <td>14.0</td>\n    </tr>\n    <tr>\n        <td>41</td>\n        <td>42.0</td>\n        <td>Woodlawn</td>\n        <td>23.4</td>\n        <td>18672</td>\n        <td>58.0</td>\n    </tr>\n    <tr>\n        <td>42</td>\n        <td>43.0</td>\n        <td>South Shore</td>\n        <td>20.0</td>\n        <td>19398</td>\n        <td>55.0</td>\n    </tr>\n    <tr>\n        <td>43</td>\n        <td>44.0</td>\n        <td>Chatham</td>\n        <td>24.0</td>\n        <td>18881</td>\n        <td>60.0</td>\n    </tr>\n    <tr>\n        <td>44</td>\n        <td>45.0</td>\n        <td>Avalon Park</td>\n        <td>21.1</td>\n        <td>24454</td>\n        <td>41.0</td>\n    </tr>\n    <tr>\n        <td>45</td>\n        <td>46.0</td>\n        <td>South Chicago</td>\n        <td>19.7</td>\n        <td>16579</td>\n        <td>75.0</td>\n    </tr>\n    <tr>\n        <td>46</td>\n        <td>47.0</td>\n        <td>Burnside</td>\n        <td>18.6</td>\n        <td>12515</td>\n        <td>79.0</td>\n    </tr>\n    <tr>\n        <td>47</td>\n        <td>48.0</td>\n        <td>Calumet Heights</td>\n        <td>20.0</td>\n        <td>28887</td>\n        <td>38.0</td>\n    </tr>\n    <tr>\n        <td>48</td>\n        <td>49.0</td>\n        <td>Roseland</td>\n        <td>20.3</td>\n        <td>17949</td>\n        <td>52.0</td>\n    </tr>\n    <tr>\n        <td>49</td>\n        <td>50.0</td>\n        <td>Pullman</td>\n        <td>22.8</td>\n        <td>20588</td>\n        <td>51.0</td>\n    </tr>\n    <tr>\n        <td>50</td>\n        <td>51.0</td>\n        <td>South Deering</td>\n        <td>16.3</td>\n        <td>14685</td>\n        <td>65.0</td>\n    </tr>\n    <tr>\n        <td>51</td>\n        <td>52.0</td>\n        <td>East Side</td>\n        <td>12.1</td>\n        <td>17104</td>\n        <td>64.0</td>\n    </tr>\n    <tr>\n        <td>52</td>\n        <td>53.0</td>\n        <td>West Pullman</td>\n        <td>19.4</td>\n        <td>16563</td>\n        <td>62.0</td>\n    </tr>\n    <tr>\n        <td>53</td>\n        <td>54.0</td>\n        <td>Riverdale</td>\n        <td>34.6</td>\n        <td>8201</td>\n        <td>98.0</td>\n    </tr>\n    <tr>\n        <td>54</td>\n        <td>55.0</td>\n        <td>Hegewisch</td>\n        <td>9.6</td>\n        <td>22677</td>\n        <td>44.0</td>\n    </tr>\n    <tr>\n        <td>55</td>\n        <td>56.0</td>\n        <td>Garfield Ridge</td>\n        <td>11.3</td>\n        <td>26353</td>\n        <td>32.0</td>\n    </tr>\n    <tr>\n        <td>56</td>\n        <td>57.0</td>\n        <td>Archer Heights</td>\n        <td>16.5</td>\n        <td>16134</td>\n        <td>67.0</td>\n    </tr>\n    <tr>\n        <td>57</td>\n        <td>58.0</td>\n        <td>Brighton Park</td>\n        <td>13.9</td>\n        <td>13089</td>\n        <td>84.0</td>\n    </tr>\n    <tr>\n        <td>58</td>\n        <td>59.0</td>\n        <td>McKinley Park</td>\n        <td>13.4</td>\n        <td>16954</td>\n        <td>61.0</td>\n    </tr>\n    <tr>\n        <td>59</td>\n        <td>60.0</td>\n        <td>Bridgeport</td>\n        <td>13.7</td>\n        <td>22694</td>\n        <td>43.0</td>\n    </tr>\n    <tr>\n        <td>60</td>\n        <td>61.0</td>\n        <td>New City</td>\n        <td>23.0</td>\n        <td>12765</td>\n        <td>91.0</td>\n    </tr>\n    <tr>\n        <td>61</td>\n        <td>62.0</td>\n        <td>West Elsdon</td>\n        <td>16.7</td>\n        <td>15754</td>\n        <td>69.0</td>\n    </tr>\n    <tr>\n        <td>62</td>\n        <td>63.0</td>\n        <td>Gage Park</td>\n        <td>18.2</td>\n        <td>12171</td>\n        <td>93.0</td>\n    </tr>\n    <tr>\n        <td>63</td>\n        <td>64.0</td>\n        <td>Clearing</td>\n        <td>9.5</td>\n        <td>25113</td>\n        <td>29.0</td>\n    </tr>\n    <tr>\n        <td>64</td>\n        <td>65.0</td>\n        <td>West Lawn</td>\n        <td>9.6</td>\n        <td>16907</td>\n        <td>56.0</td>\n    </tr>\n    <tr>\n        <td>65</td>\n        <td>66.0</td>\n        <td>Chicago Lawn</td>\n        <td>17.1</td>\n        <td>13231</td>\n        <td>80.0</td>\n    </tr>\n    <tr>\n        <td>66</td>\n        <td>67.0</td>\n        <td>West Englewood</td>\n        <td>35.9</td>\n        <td>11317</td>\n        <td>89.0</td>\n    </tr>\n    <tr>\n        <td>67</td>\n        <td>68.0</td>\n        <td>Englewood</td>\n        <td>28.0</td>\n        <td>11888</td>\n        <td>94.0</td>\n    </tr>\n    <tr>\n        <td>68</td>\n        <td>69.0</td>\n        <td>Greater Grand Crossing</td>\n        <td>23.0</td>\n        <td>17285</td>\n        <td>66.0</td>\n    </tr>\n    <tr>\n        <td>69</td>\n        <td>70.0</td>\n        <td>Ashburn</td>\n        <td>11.7</td>\n        <td>23482</td>\n        <td>37.0</td>\n    </tr>\n    <tr>\n        <td>70</td>\n        <td>71.0</td>\n        <td>Auburn Gresham</td>\n        <td>28.3</td>\n        <td>15528</td>\n        <td>74.0</td>\n    </tr>\n    <tr>\n        <td>71</td>\n        <td>72.0</td>\n        <td>Beverly</td>\n        <td>8.0</td>\n        <td>39523</td>\n        <td>12.0</td>\n    </tr>\n    <tr>\n        <td>72</td>\n        <td>73.0</td>\n        <td>Washington Height</td>\n        <td>20.8</td>\n        <td>19713</td>\n        <td>48.0</td>\n    </tr>\n    <tr>\n        <td>73</td>\n        <td>74.0</td>\n        <td>Mount Greenwood</td>\n        <td>8.7</td>\n        <td>34381</td>\n        <td>16.0</td>\n    </tr>\n    <tr>\n        <td>74</td>\n        <td>75.0</td>\n        <td>Morgan Park</td>\n        <td>15.0</td>\n        <td>27149</td>\n        <td>30.0</td>\n    </tr>\n    <tr>\n        <td>75</td>\n        <td>76.0</td>\n        <td>O&#x27;Hare</td>\n        <td>7.1</td>\n        <td>25828</td>\n        <td>24.0</td>\n    </tr>\n    <tr>\n        <td>76</td>\n        <td>77.0</td>\n        <td>Edgewater</td>\n        <td>9.2</td>\n        <td>33385</td>\n        <td>19.0</td>\n    </tr>\n    <tr>\n        <td>77</td>\n        <td>None</td>\n        <td>CHICAGO</td>\n        <td>12.9</td>\n        <td>28202</td>\n        <td>None</td>\n    </tr>\n</table>",
                        "text/plain": "[(0, 1.0, 'Rogers Park', 8.7, 23939, 39.0),\n (1, 2.0, 'West Ridge', 8.8, 23040, 46.0),\n (2, 3.0, 'Uptown', 8.9, 35787, 20.0),\n (3, 4.0, 'Lincoln Square', 8.2, 37524, 17.0),\n (4, 5.0, 'North Center', 5.2, 57123, 6.0),\n (5, 6.0, 'Lake View', 4.7, 60058, 5.0),\n (6, 7.0, 'Lincoln Park', 5.1, 71551, 2.0),\n (7, 8.0, 'Near North Side', 7.0, 88669, 1.0),\n (8, 9.0, 'Edison Park', 6.5, 40959, 8.0),\n (9, 10.0, 'Norwood Park', 9.0, 32875, 21.0),\n (10, 11.0, 'Jefferson Park', 12.4, 27751, 25.0),\n (11, 12.0, 'Forest Glen', 6.8, 44164, 11.0),\n (12, 13.0, 'North Park', 9.9, 26576, 33.0),\n (13, 14.0, 'Albany Park', 10.0, 21323, 53.0),\n (14, 15.0, 'Portage Park', 12.6, 24336, 35.0),\n (15, 16.0, 'Irving Park', 10.0, 27249, 34.0),\n (16, 17.0, 'Dunning', 10.0, 26282, 28.0),\n (17, 18.0, 'Montclaire', 13.8, 22014, 50.0),\n (18, 19.0, 'Belmont Cragin', 14.6, 15461, 70.0),\n (19, 20.0, 'Hermosa', 13.1, 15089, 71.0),\n (20, 21.0, 'Avondale', 9.2, 20039, 42.0),\n (21, 22.0, 'Logan Square', 8.2, 31908, 23.0),\n (22, 23.0, 'Humboldt park', 17.3, 13781, 85.0),\n (23, 24.0, 'West Town', 6.6, 43198, 10.0),\n (24, 25.0, 'Austin', 22.6, 15957, 73.0),\n (25, 26.0, 'West Garfield Park', 25.8, 10934, 92.0),\n (26, 27.0, 'East Garfield Park', 19.6, 12961, 83.0),\n (27, 28.0, 'Near West Side', 10.7, 44689, 15.0),\n (28, 29.0, 'North Lawndale', 21.2, 12034, 87.0),\n (29, 30.0, 'South Lawndale', 15.8, 10402, 96.0),\n (30, 31.0, 'Lower West Side', 15.8, 16444, 76.0),\n (31, 32.0, 'Loop', 5.7, 65526, 3.0),\n (32, 33.0, 'Near South Side', 4.9, 59077, 7.0),\n (33, 34.0, 'Armour Square', 16.7, 16148, 82.0),\n (34, 35.0, 'Douglas', 18.2, 23791, 47.0),\n (35, 36.0, 'Oakland', 28.7, 19252, 78.0),\n (36, 37.0, 'Fuller Park', 33.9, 10432, 97.0),\n (37, 38.0, 'Grand Boulevard', 24.3, 23472, 57.0),\n (38, 39.0, 'Kenwood', 15.7, 35911, 26.0),\n (39, 40.0, 'Washington Park', 28.6, 13785, 88.0),\n (40, 41.0, 'Hyde Park', 8.4, 39056, 14.0),\n (41, 42.0, 'Woodlawn', 23.4, 18672, 58.0),\n (42, 43.0, 'South Shore', 20.0, 19398, 55.0),\n (43, 44.0, 'Chatham', 24.0, 18881, 60.0),\n (44, 45.0, 'Avalon Park', 21.1, 24454, 41.0),\n (45, 46.0, 'South Chicago', 19.7, 16579, 75.0),\n (46, 47.0, 'Burnside', 18.6, 12515, 79.0),\n (47, 48.0, 'Calumet Heights', 20.0, 28887, 38.0),\n (48, 49.0, 'Roseland', 20.3, 17949, 52.0),\n (49, 50.0, 'Pullman', 22.8, 20588, 51.0),\n (50, 51.0, 'South Deering', 16.3, 14685, 65.0),\n (51, 52.0, 'East Side', 12.1, 17104, 64.0),\n (52, 53.0, 'West Pullman', 19.4, 16563, 62.0),\n (53, 54.0, 'Riverdale', 34.6, 8201, 98.0),\n (54, 55.0, 'Hegewisch', 9.6, 22677, 44.0),\n (55, 56.0, 'Garfield Ridge', 11.3, 26353, 32.0),\n (56, 57.0, 'Archer Heights', 16.5, 16134, 67.0),\n (57, 58.0, 'Brighton Park', 13.9, 13089, 84.0),\n (58, 59.0, 'McKinley Park', 13.4, 16954, 61.0),\n (59, 60.0, 'Bridgeport', 13.7, 22694, 43.0),\n (60, 61.0, 'New City', 23.0, 12765, 91.0),\n (61, 62.0, 'West Elsdon', 16.7, 15754, 69.0),\n (62, 63.0, 'Gage Park', 18.2, 12171, 93.0),\n (63, 64.0, 'Clearing', 9.5, 25113, 29.0),\n (64, 65.0, 'West Lawn', 9.6, 16907, 56.0),\n (65, 66.0, 'Chicago Lawn', 17.1, 13231, 80.0),\n (66, 67.0, 'West Englewood', 35.9, 11317, 89.0),\n (67, 68.0, 'Englewood', 28.0, 11888, 94.0),\n (68, 69.0, 'Greater Grand Crossing', 23.0, 17285, 66.0),\n (69, 70.0, 'Ashburn', 11.7, 23482, 37.0),\n (70, 71.0, 'Auburn Gresham', 28.3, 15528, 74.0),\n (71, 72.0, 'Beverly', 8.0, 39523, 12.0),\n (72, 73.0, 'Washington Height', 20.8, 19713, 48.0),\n (73, 74.0, 'Mount Greenwood', 8.7, 34381, 16.0),\n (74, 75.0, 'Morgan Park', 15.0, 27149, 30.0),\n (75, 76.0, \"O'Hare\", 7.1, 25828, 24.0),\n (76, 77.0, 'Edgewater', 9.2, 33385, 19.0),\n (77, None, 'CHICAGO', 12.9, 28202, None)]"
                    },
                    "execution_count": 65,
                    "metadata": {},
                    "output_type": "execute_result"
                }
            ],
            "source": "%sql SELECT \"index\" ,COMMUNITY_AREA_NUMBER ,COMMUNITY_AREA_NAME ,PERCENT_AGED_16__UNEMPLOYED ,PER_CAPITA_INCOME ,HARDSHIP_INDEX FROM CENSUS_DATA  "
        },
        {
            "cell_type": "markdown",
            "metadata": {},
            "source": "### Problem 4\n\n##### List all kidnapping crimes involving a child?\n"
        },
        {
            "cell_type": "code",
            "execution_count": 66,
            "metadata": {},
            "outputs": [
                {
                    "name": "stdout",
                    "output_type": "stream",
                    "text": " * ibm_db_sa://cwb66790:***@dashdb-txn-sbox-yp-dal09-11.services.dal.bluemix.net:50000/BLUDB\nDone.\n"
                },
                {
                    "data": {
                        "text/html": "<table>\n    <tr>\n        <th>index</th>\n        <th>community_area_number</th>\n        <th>community_area_name</th>\n        <th>percent_aged_16__unemployed</th>\n        <th>per_capita_income</th>\n        <th>hardship_index</th>\n    </tr>\n    <tr>\n        <td>0</td>\n        <td>1.0</td>\n        <td>Rogers Park</td>\n        <td>8.7</td>\n        <td>23939</td>\n        <td>39.0</td>\n    </tr>\n</table>",
                        "text/plain": "[(0, 1.0, 'Rogers Park', 8.7, 23939, 39.0)]"
                    },
                    "execution_count": 66,
                    "metadata": {},
                    "output_type": "execute_result"
                }
            ],
            "source": "%sql SELECT \"index\" ,COMMUNITY_AREA_NUMBER ,COMMUNITY_AREA_NAME ,PERCENT_AGED_16__UNEMPLOYED ,PER_CAPITA_INCOME ,HARDSHIP_INDEX FROM CENSUS_DATA WHERE \"index\" = '0'"
        },
        {
            "cell_type": "markdown",
            "metadata": {},
            "source": "### Problem 5\n\n##### What kinds of crimes were recorded at schools?\n"
        },
        {
            "cell_type": "code",
            "execution_count": 69,
            "metadata": {},
            "outputs": [
                {
                    "name": "stdout",
                    "output_type": "stream",
                    "text": " * ibm_db_sa://cwb66790:***@dashdb-txn-sbox-yp-dal09-11.services.dal.bluemix.net:50000/BLUDB\nDone.\n"
                },
                {
                    "data": {
                        "text/html": "<table>\n    <tr>\n        <th>1</th>\n    </tr>\n    <tr>\n        <td>ARSON</td>\n    </tr>\n    <tr>\n        <td>ASSAULT</td>\n    </tr>\n    <tr>\n        <td>BATTERY</td>\n    </tr>\n    <tr>\n        <td>BURGLARY</td>\n    </tr>\n    <tr>\n        <td>CONCEALED CARRY LICENSE VIOLATION</td>\n    </tr>\n    <tr>\n        <td>CRIM SEXUAL ASSAULT</td>\n    </tr>\n    <tr>\n        <td>CRIMINAL DAMAGE</td>\n    </tr>\n    <tr>\n        <td>CRIMINAL TRESPASS</td>\n    </tr>\n    <tr>\n        <td>DECEPTIVE PRACTICE</td>\n    </tr>\n    <tr>\n        <td>DOMESTIC VIOLENCE</td>\n    </tr>\n    <tr>\n        <td>GAMBLING</td>\n    </tr>\n    <tr>\n        <td>HOMICIDE</td>\n    </tr>\n    <tr>\n        <td>HUMAN TRAFFICKING</td>\n    </tr>\n    <tr>\n        <td>INTERFERENCE WITH PUBLIC OFFICER</td>\n    </tr>\n    <tr>\n        <td>INTIMIDATION</td>\n    </tr>\n    <tr>\n        <td>KIDNAPPING</td>\n    </tr>\n    <tr>\n        <td>LIQUOR LAW VIOLATION</td>\n    </tr>\n    <tr>\n        <td>MOTOR VEHICLE THEFT</td>\n    </tr>\n    <tr>\n        <td>NARCOTICS</td>\n    </tr>\n    <tr>\n        <td>NON - CRIMINAL</td>\n    </tr>\n    <tr>\n        <td>NON-CRIMINAL</td>\n    </tr>\n    <tr>\n        <td>NON-CRIMINAL (SUBJECT SPECIFIED)</td>\n    </tr>\n    <tr>\n        <td>OBSCENITY</td>\n    </tr>\n    <tr>\n        <td>OFFENSE INVOLVING CHILDREN</td>\n    </tr>\n    <tr>\n        <td>OTHER NARCOTIC VIOLATION</td>\n    </tr>\n    <tr>\n        <td>OTHER OFFENSE</td>\n    </tr>\n    <tr>\n        <td>PROSTITUTION</td>\n    </tr>\n    <tr>\n        <td>PUBLIC INDECENCY</td>\n    </tr>\n    <tr>\n        <td>PUBLIC PEACE VIOLATION</td>\n    </tr>\n    <tr>\n        <td>RITUALISM</td>\n    </tr>\n    <tr>\n        <td>ROBBERY</td>\n    </tr>\n    <tr>\n        <td>SEX OFFENSE</td>\n    </tr>\n    <tr>\n        <td>STALKING</td>\n    </tr>\n    <tr>\n        <td>THEFT</td>\n    </tr>\n    <tr>\n        <td>WEAPONS VIOLATION</td>\n    </tr>\n</table>",
                        "text/plain": "[('ARSON',),\n ('ASSAULT',),\n ('BATTERY',),\n ('BURGLARY',),\n ('CONCEALED CARRY LICENSE VIOLATION',),\n ('CRIM SEXUAL ASSAULT',),\n ('CRIMINAL DAMAGE',),\n ('CRIMINAL TRESPASS',),\n ('DECEPTIVE PRACTICE',),\n ('DOMESTIC VIOLENCE',),\n ('GAMBLING',),\n ('HOMICIDE',),\n ('HUMAN TRAFFICKING',),\n ('INTERFERENCE WITH PUBLIC OFFICER',),\n ('INTIMIDATION',),\n ('KIDNAPPING',),\n ('LIQUOR LAW VIOLATION',),\n ('MOTOR VEHICLE THEFT',),\n ('NARCOTICS',),\n ('NON - CRIMINAL',),\n ('NON-CRIMINAL',),\n ('NON-CRIMINAL (SUBJECT SPECIFIED)',),\n ('OBSCENITY',),\n ('OFFENSE INVOLVING CHILDREN',),\n ('OTHER NARCOTIC VIOLATION',),\n ('OTHER OFFENSE',),\n ('PROSTITUTION',),\n ('PUBLIC INDECENCY',),\n ('PUBLIC PEACE VIOLATION',),\n ('RITUALISM',),\n ('ROBBERY',),\n ('SEX OFFENSE',),\n ('STALKING',),\n ('THEFT',),\n ('WEAPONS VIOLATION',)]"
                    },
                    "execution_count": 69,
                    "metadata": {},
                    "output_type": "execute_result"
                }
            ],
            "source": "%sql SELECT CAST(PRIMARY_TYPE AS VARCHAR) FROM  CHICAGO_CRIME_DATA ccd GROUP BY CAST(PRIMARY_TYPE AS VARCHAR);"
        },
        {
            "cell_type": "markdown",
            "metadata": {},
            "source": "### Problem 6\n\n##### List the average safety score for all types of schools.\n"
        },
        {
            "cell_type": "code",
            "execution_count": 77,
            "metadata": {},
            "outputs": [
                {
                    "name": "stdout",
                    "output_type": "stream",
                    "text": " * ibm_db_sa://cwb66790:***@dashdb-txn-sbox-yp-dal09-11.services.dal.bluemix.net:50000/BLUDB\nDone.\n"
                },
                {
                    "data": {
                        "text/html": "<table>\n    <tr>\n        <th>the_average_safety_score</th>\n    </tr>\n    <tr>\n        <td>49.50487329434698</td>\n    </tr>\n</table>",
                        "text/plain": "[(49.50487329434698,)]"
                    },
                    "execution_count": 77,
                    "metadata": {},
                    "output_type": "execute_result"
                }
            ],
            "source": "%sql SELECT AVG(safety_score) AS the_average_safety_score FROM CHICAGO_PUBLIC_SCHOOLS;"
        },
        {
            "cell_type": "markdown",
            "metadata": {},
            "source": "### Problem 7\n\n##### List 5 community areas with highest % of households below poverty line\n"
        },
        {
            "cell_type": "code",
            "execution_count": 78,
            "metadata": {
                "scrolled": true
            },
            "outputs": [
                {
                    "name": "stdout",
                    "output_type": "stream",
                    "text": " * ibm_db_sa://cwb66790:***@dashdb-txn-sbox-yp-dal09-11.services.dal.bluemix.net:50000/BLUDB\nDone.\n"
                },
                {
                    "data": {
                        "text/html": "<table>\n    <tr>\n        <th>index</th>\n        <th>community_area_number</th>\n        <th>community_area_name</th>\n        <th>percent_of_housing_crowded</th>\n        <th>percent_households_below_poverty</th>\n        <th>percent_aged_16__unemployed</th>\n        <th>percent_aged_25__without_high_school_diploma</th>\n        <th>percent_aged_under_18_or_over_64</th>\n        <th>per_capita_income</th>\n        <th>hardship_index</th>\n    </tr>\n    <tr>\n        <td>53</td>\n        <td>54.0</td>\n        <td>Riverdale</td>\n        <td>5.8</td>\n        <td>56.5</td>\n        <td>34.6</td>\n        <td>27.5</td>\n        <td>51.5</td>\n        <td>8201</td>\n        <td>98.0</td>\n    </tr>\n    <tr>\n        <td>36</td>\n        <td>37.0</td>\n        <td>Fuller Park</td>\n        <td>3.2</td>\n        <td>51.2</td>\n        <td>33.9</td>\n        <td>26.6</td>\n        <td>44.9</td>\n        <td>10432</td>\n        <td>97.0</td>\n    </tr>\n    <tr>\n        <td>67</td>\n        <td>68.0</td>\n        <td>Englewood</td>\n        <td>3.8</td>\n        <td>46.6</td>\n        <td>28.0</td>\n        <td>28.5</td>\n        <td>42.5</td>\n        <td>11888</td>\n        <td>94.0</td>\n    </tr>\n    <tr>\n        <td>28</td>\n        <td>29.0</td>\n        <td>North Lawndale</td>\n        <td>7.4</td>\n        <td>43.1</td>\n        <td>21.2</td>\n        <td>27.6</td>\n        <td>42.7</td>\n        <td>12034</td>\n        <td>87.0</td>\n    </tr>\n    <tr>\n        <td>26</td>\n        <td>27.0</td>\n        <td>East Garfield Park</td>\n        <td>8.2</td>\n        <td>42.4</td>\n        <td>19.6</td>\n        <td>21.3</td>\n        <td>43.2</td>\n        <td>12961</td>\n        <td>83.0</td>\n    </tr>\n</table>",
                        "text/plain": "[(53, 54.0, 'Riverdale', 5.8, 56.5, 34.6, 27.5, 51.5, 8201, 98.0),\n (36, 37.0, 'Fuller Park', 3.2, 51.2, 33.9, 26.6, 44.9, 10432, 97.0),\n (67, 68.0, 'Englewood', 3.8, 46.6, 28.0, 28.5, 42.5, 11888, 94.0),\n (28, 29.0, 'North Lawndale', 7.4, 43.1, 21.2, 27.6, 42.7, 12034, 87.0),\n (26, 27.0, 'East Garfield Park', 8.2, 42.4, 19.6, 21.3, 43.2, 12961, 83.0)]"
                    },
                    "execution_count": 78,
                    "metadata": {},
                    "output_type": "execute_result"
                }
            ],
            "source": "%sql SELECT * FROM CENSUS_DATA ORDER BY PERCENT_HOUSEHOLDS_BELOW_POVERTY DESC LIMIT 5 ;"
        },
        {
            "cell_type": "markdown",
            "metadata": {},
            "source": "### Problem 8\n\n##### Which community area is most crime prone?\n"
        },
        {
            "cell_type": "code",
            "execution_count": 87,
            "metadata": {},
            "outputs": [
                {
                    "name": "stdout",
                    "output_type": "stream",
                    "text": " * ibm_db_sa://cwb66790:***@dashdb-txn-sbox-yp-dal09-11.services.dal.bluemix.net:50000/BLUDB\nDone.\n"
                },
                {
                    "data": {
                        "text/html": "<table>\n    <tr>\n        <th>community_area_name</th>\n    </tr>\n    <tr>\n        <td>CHICAGO</td>\n    </tr>\n</table>",
                        "text/plain": "[('CHICAGO',)]"
                    },
                    "execution_count": 87,
                    "metadata": {},
                    "output_type": "execute_result"
                }
            ],
            "source": "%%sql \nSELECT community_area_name FROM CENSUS_DATA ORDER BY community_area_number DESC LIMIT 1 ;"
        },
        {
            "cell_type": "markdown",
            "metadata": {},
            "source": "Double-click **here** for a hint\n\n<!--\nQuery for the 'community area number' that is most crime prone.\n-->\n"
        },
        {
            "cell_type": "markdown",
            "metadata": {},
            "source": "### Problem 9\n\n##### Use a sub-query to find the name of the community area with highest hardship index\n"
        },
        {
            "cell_type": "code",
            "execution_count": 88,
            "metadata": {},
            "outputs": [
                {
                    "name": "stdout",
                    "output_type": "stream",
                    "text": " * ibm_db_sa://cwb66790:***@dashdb-txn-sbox-yp-dal09-11.services.dal.bluemix.net:50000/BLUDB\nDone.\n"
                },
                {
                    "data": {
                        "text/html": "<table>\n    <tr>\n        <th>community_area_name</th>\n    </tr>\n    <tr>\n        <td>Riverdale</td>\n    </tr>\n</table>",
                        "text/plain": "[('Riverdale',)]"
                    },
                    "execution_count": 88,
                    "metadata": {},
                    "output_type": "execute_result"
                }
            ],
            "source": "%%sql\nselect community_area_name FROM CENSUS_DATA where hardship_index = (select max(hardship_index) from  CENSUS_DATA) "
        },
        {
            "cell_type": "markdown",
            "metadata": {},
            "source": "### Problem 10\n\n##### Use a sub-query to determine the Community Area Name with most number of crimes?\n"
        },
        {
            "cell_type": "code",
            "execution_count": 89,
            "metadata": {},
            "outputs": [
                {
                    "name": "stdout",
                    "output_type": "stream",
                    "text": " * ibm_db_sa://cwb66790:***@dashdb-txn-sbox-yp-dal09-11.services.dal.bluemix.net:50000/BLUDB\nDone.\n"
                },
                {
                    "data": {
                        "text/html": "<table>\n    <tr>\n        <th>community_area_name</th>\n    </tr>\n    <tr>\n        <td>Edgewater</td>\n    </tr>\n</table>",
                        "text/plain": "[('Edgewater',)]"
                    },
                    "execution_count": 89,
                    "metadata": {},
                    "output_type": "execute_result"
                }
            ],
            "source": "%%sql\nselect community_area_name FROM CENSUS_DATA where community_area_number = (select max(community_area_number) from  CENSUS_DATA) "
        },
        {
            "cell_type": "code",
            "execution_count": null,
            "metadata": {},
            "outputs": [],
            "source": ""
        },
        {
            "cell_type": "markdown",
            "metadata": {},
            "source": "Copyright \u00a9 2020 [cognitiveclass.ai](cognitiveclass.ai?utm_source=bducopyrightlink&utm_medium=dswb&utm_campaign=bdu). This notebook and its source code are released under the terms of the [MIT License](https://bigdatauniversity.com/mit-license?utm_medium=Email&utm_source=Nurture&utm_content=000026UJ&utm_term=10006555&utm_id=SkillsNetwork-Courses-IBMDeveloperSkillsNetwork-DB0201EN-SkillsNetwork-20127838&cm_mmc=Email_Newsletter-_-Developer_Ed%2BTech-_-WW_WW-_-SkillsNetwork-Courses-IBMDeveloperSkillsNetwork-DB0201EN-SkillsNetwork-20127838&cm_mmca1=000026UJ&cm_mmca2=10006555&cm_mmca3=M12345678&cvosrc=email.Newsletter.M12345678&cvo_campaign=000026UJ).\n"
        },
        {
            "cell_type": "markdown",
            "metadata": {},
            "source": "## Author(s)\n\n<h4> Hima Vasudevan </h4>\n<h4> Rav Ahuja </h4>\n<h4> Ramesh Sannreddy </h4>\n\n## Contribtuor(s)\n\n<h4> Malika Singla </h4>\n\n## Change log\n\n| Date       | Version | Changed by        | Change Description                             |\n| ---------- | ------- | ----------------- | ---------------------------------------------- |\n| 2021-04-30 | 2.3     | Malika Singla     | Updated the libraries                          |\n| 2021-01-15 | 2.2     | Rav Ahuja         | Removed problem 11 and fixed changelog         |\n| 2020-11-25 | 2.1     | Ramesh Sannareddy | Updated the problem statements, and datasets   |\n| 2020-09-05 | 2.0     | Malika Singla     | Moved lab to course repo in GitLab             |\n| 2018-07-18 | 1.0     | Rav Ahuja         | Several updates including loading instructions |\n| 2018-05-04 | 0.1     | Hima Vasudevan    | Created initial version                        |\n\n## <h3 align=\"center\"> \u00a9 IBM Corporation 2020. All rights reserved. <h3/>\n"
        }
    ],
    "metadata": {
        "kernelspec": {
            "display_name": "Python 3.7",
            "language": "python",
            "name": "python3"
        },
        "language_info": {
            "codemirror_mode": {
                "name": "ipython",
                "version": 3
            },
            "file_extension": ".py",
            "mimetype": "text/x-python",
            "name": "python",
            "nbconvert_exporter": "python",
            "pygments_lexer": "ipython3",
            "version": "3.7.10"
        },
        "widgets": {
            "state": {},
            "version": "1.1.2"
        }
    },
    "nbformat": 4,
    "nbformat_minor": 4
}