{
    "cells": [
        {
            "cell_type": "markdown",
            "metadata": {},
            "source": "<h1>\n    My Jupyter Notebook on IBM Watson Studio\n</h1>\n"
        },
        {
            "cell_type": "markdown",
            "metadata": {},
            "source": "<b>\n    To Lieng Phu\n</b>\n\n"
        },
        {
            "cell_type": "markdown",
            "metadata": {},
            "source": "<p>\n   Developer\n</p>"
        },
        {
            "cell_type": "markdown",
            "metadata": {},
            "source": "<i>\n    I am interested in data science because this is a top of program now \n    </i>"
        },
        {
            "cell_type": "markdown",
            "metadata": {},
            "source": "<h3>\n    The following code test in Python language\n    </h3>"
        },
        {
            "cell_type": "code",
            "execution_count": 2,
            "metadata": {},
            "outputs": [
                {
                    "name": "stdout",
                    "output_type": "stream",
                    "text": "2\n"
                }
            ],
            "source": "a = 1\nb = 1 \nprint(a+b)"
        },
        {
            "cell_type": "markdown",
            "metadata": {},
            "source": "* One\n* Two\n* There\n* One\n* Two\n* There\n\n|Markdown | Less | Pretty\n|--- | --- | ---\n|*Still* | `renders` | **nicely**\n|1 | 2 | 3\n\n[www.ibm.com](https://www.ibm.com)\n"
        },
        {
            "cell_type": "code",
            "execution_count": null,
            "metadata": {},
            "outputs": [],
            "source": ""
        }
    ],
    "metadata": {
        "kernelspec": {
            "display_name": "Python 3.7",
            "language": "python",
            "name": "python3"
        },
        "language_info": {
            "codemirror_mode": {
                "name": "ipython",
                "version": 3
            },
            "file_extension": ".py",
            "mimetype": "text/x-python",
            "name": "python",
            "nbconvert_exporter": "python",
            "pygments_lexer": "ipython3",
            "version": "3.7.10"
        }
    },
    "nbformat": 4,
    "nbformat_minor": 1
}